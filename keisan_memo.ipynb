{
 "cells": [
  {
   "cell_type": "markdown",
   "metadata": {},
   "source": [
    "$$\n",
    "\n",
    "\\begin{align}\n",
    "\\omega_p ' &= \\frac{2\\pi\\hbar\\rho}{m_n}\\left(\\mathrm{Re}B'-\\frac{\\mu_n m_n}{4\\pi\\hbar^2\\rho}\\right) \\\\\n",
    "            &= \\frac{2\\pi\\hbar\\rho c^2}{m_nc^2}\\left(\\mathrm{Re}B'-\\frac{\\mu_n m_nc^2}{4\\pi\\hbar^2\\rho c^2}\\right) \\\\\n",
    "            &= \\frac{2\\pi\\hbar\\mathrm{[eV s]}\\rho\\mathrm{[m^{-3}]}c^2\\mathrm{[m^2 s^{-2}]}}{m_n\\mathrm{[eV]}}\\left(\\mathrm{Re}B'\\mathrm{[m]}-\\frac{\\mu_n\\mathrm{[eV T^{-1}]} m_n\\mathrm{[eV]} B_0\\mathrm{[T]}}{4\\pi\\hbar^2\\mathrm{[eV^2 s^2]}\\rho\\mathrm{[m^{-3}]}c^2\\mathrm{[m^2 s^{-2}]}}\\right)\n",
    "\n",
    "\\end{align}\n",
    "\n",
    "$$"
   ]
  },
  {
   "cell_type": "markdown",
   "metadata": {},
   "source": []
  },
  {
   "cell_type": "code",
   "execution_count": 1,
   "metadata": {},
   "outputs": [],
   "source": [
    "import ImRe_func as func\n",
    "import const\n",
    "import numpy as np"
   ]
  },
  {
   "cell_type": "code",
   "execution_count": 2,
   "metadata": {},
   "outputs": [
    {
     "data": {
      "text/plain": [
       "6055.680238910099"
      ]
     },
     "execution_count": 2,
     "metadata": {},
     "output_type": "execute_result"
    }
   ],
   "source": [
    "# omega at E=9.57 eV\n",
    "func.Omega(9.57)"
   ]
  },
  {
   "cell_type": "code",
   "execution_count": 3,
   "metadata": {},
   "outputs": [
    {
     "data": {
      "text/plain": [
       "-0.00013365655676724855"
      ]
     },
     "execution_count": 3,
     "metadata": {},
     "output_type": "execute_result"
    }
   ],
   "source": [
    "# B_0 to make omega prime zero\n",
    "(func.Re_B(9.57)/10**15)*(4*np.pi*const.h_bar**2*const.num_129*const.c**2)/(const.mu_N*const.m_N)"
   ]
  },
  {
   "cell_type": "markdown",
   "metadata": {},
   "source": []
  },
  {
   "cell_type": "code",
   "execution_count": 4,
   "metadata": {},
   "outputs": [
    {
     "data": {
      "text/plain": [
       "42789.25721720348"
      ]
     },
     "execution_count": 4,
     "metadata": {},
     "output_type": "execute_result"
    }
   ],
   "source": [
    "# velocity [m/s] of neutron at 9.75 eV\n",
    "437.4*np.sqrt(9.57*10**3)"
   ]
  },
  {
   "cell_type": "code",
   "execution_count": 5,
   "metadata": {},
   "outputs": [
    {
     "data": {
      "text/plain": [
       "1.1685175965124592e-06"
      ]
     },
     "execution_count": 5,
     "metadata": {},
     "output_type": "execute_result"
    }
   ],
   "source": [
    "# time to pass throgh 5 cm Xe cell\n",
    "# neutron at 9.75 eV\n",
    "5*10**(-2)/(437.4*np.sqrt(9.57*10**3))"
   ]
  },
  {
   "cell_type": "code",
   "execution_count": 6,
   "metadata": {},
   "outputs": [
    {
     "data": {
      "text/plain": [
       "4.9555215351048085"
      ]
     },
     "execution_count": 6,
     "metadata": {},
     "output_type": "execute_result"
    }
   ],
   "source": [
    "360/(2*np.pi)*74017*5*10**(-2)/(437.4*np.sqrt(9.57*10**3))"
   ]
  },
  {
   "cell_type": "code",
   "execution_count": 7,
   "metadata": {},
   "outputs": [
    {
     "data": {
      "text/plain": [
       "74017.33193837234"
      ]
     },
     "execution_count": 7,
     "metadata": {},
     "output_type": "execute_result"
    }
   ],
   "source": [
    "func.Omega_prime(9.57, 1.5*10**(-3), 1)"
   ]
  },
  {
   "cell_type": "code",
   "execution_count": 8,
   "metadata": {},
   "outputs": [
    {
     "data": {
      "text/plain": [
       "10292.535200487688"
      ]
     },
     "execution_count": 8,
     "metadata": {},
     "output_type": "execute_result"
    }
   ],
   "source": [
    "func.sigma_A(9.57)"
   ]
  },
  {
   "cell_type": "code",
   "execution_count": 9,
   "metadata": {},
   "outputs": [
    {
     "data": {
      "text/plain": [
       "34.303616095074176"
      ]
     },
     "execution_count": 9,
     "metadata": {},
     "output_type": "execute_result"
    }
   ],
   "source": [
    "x=9.57\n",
    "Pol129 = 0.01\n",
    "func.sigma_A(x)+func.sigma_B(x, Pol129)-func.sigma_A(9.57)"
   ]
  },
  {
   "cell_type": "code",
   "execution_count": 10,
   "metadata": {},
   "outputs": [
    {
     "data": {
      "text/plain": [
       "10258.231584392614"
      ]
     },
     "execution_count": 10,
     "metadata": {},
     "output_type": "execute_result"
    }
   ],
   "source": [
    "func.sigma_A(x)-func.sigma_B(x, Pol129)"
   ]
  },
  {
   "cell_type": "code",
   "execution_count": 11,
   "metadata": {},
   "outputs": [
    {
     "data": {
      "text/plain": [
       "-34.30361609507476"
      ]
     },
     "execution_count": 11,
     "metadata": {},
     "output_type": "execute_result"
    }
   ],
   "source": [
    "func.sigma_A(9.57)-func.sigma_A(x)-func.sigma_B(x, Pol129)"
   ]
  },
  {
   "cell_type": "code",
   "execution_count": 12,
   "metadata": {},
   "outputs": [
    {
     "data": {
      "text/plain": [
       "0.33321192210680267"
      ]
     },
     "execution_count": 12,
     "metadata": {},
     "output_type": "execute_result"
    }
   ],
   "source": [
    "T = np.exp(-const.num_129*10294*10**(-28)*5*10**(-2))*np.cosh(Pol129*const.num_129*34*10**(-28)*5*10**(-2))\n",
    "T"
   ]
  },
  {
   "cell_type": "code",
   "execution_count": 13,
   "metadata": {},
   "outputs": [
    {
     "data": {
      "text/plain": [
       "67961.65169946227"
      ]
     },
     "execution_count": 13,
     "metadata": {},
     "output_type": "execute_result"
    }
   ],
   "source": [
    "-const.mu_N*1.5*10**(-3)/(2*const.h_bar)"
   ]
  },
  {
   "cell_type": "code",
   "execution_count": 14,
   "metadata": {},
   "outputs": [
    {
     "data": {
      "text/plain": [
       "6055.680238910099"
      ]
     },
     "execution_count": 14,
     "metadata": {},
     "output_type": "execute_result"
    }
   ],
   "source": [
    "func.Omega(9.57)"
   ]
  },
  {
   "cell_type": "code",
   "execution_count": 15,
   "metadata": {},
   "outputs": [
    {
     "data": {
      "text/plain": [
       "-0.10356478769320046"
      ]
     },
     "execution_count": 15,
     "metadata": {},
     "output_type": "execute_result"
    }
   ],
   "source": [
    "func.Poln()"
   ]
  },
  {
   "cell_type": "code",
   "execution_count": 16,
   "metadata": {},
   "outputs": [
    {
     "data": {
      "text/plain": [
       "0.0003792751232674961"
      ]
     },
     "execution_count": 16,
     "metadata": {},
     "output_type": "execute_result"
    }
   ],
   "source": [
    "func.Tasymm(9.57, 0.01)"
   ]
  },
  {
   "cell_type": "code",
   "execution_count": 20,
   "metadata": {},
   "outputs": [
    {
     "data": {
      "text/plain": [
       "0.003791073497742233"
      ]
     },
     "execution_count": 20,
     "metadata": {},
     "output_type": "execute_result"
    }
   ],
   "source": [
    "func.Tasymm(9.57, 0.10)"
   ]
  },
  {
   "cell_type": "code",
   "execution_count": 18,
   "metadata": {},
   "outputs": [
    {
     "name": "stdout",
     "output_type": "stream",
     "text": [
      "0.0036622178957384554\n",
      "1.0000067059274529\n",
      "0.0\n",
      "1.0\n"
     ]
    },
    {
     "data": {
      "text/plain": [
       "1.0000067059274529"
      ]
     },
     "execution_count": 18,
     "metadata": {},
     "output_type": "execute_result"
    }
   ],
   "source": [
    "func.Transmission(9.57, 0.01)/func.Transmission(9.57, 0.0)"
   ]
  }
 ],
 "metadata": {
  "kernelspec": {
   "display_name": "Python 3",
   "language": "python",
   "name": "python3"
  },
  "language_info": {
   "codemirror_mode": {
    "name": "ipython",
    "version": 3
   },
   "file_extension": ".py",
   "mimetype": "text/x-python",
   "name": "python",
   "nbconvert_exporter": "python",
   "pygments_lexer": "ipython3",
   "version": "3.10.6"
  },
  "orig_nbformat": 4
 },
 "nbformat": 4,
 "nbformat_minor": 2
}
