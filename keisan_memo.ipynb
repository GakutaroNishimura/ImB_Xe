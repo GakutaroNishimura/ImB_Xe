{
 "cells": [
  {
   "cell_type": "markdown",
   "metadata": {},
   "source": [
    "$$\n",
    "\n",
    "\\begin{align}\n",
    "\\omega_p ' &= \\frac{2\\pi\\hbar\\rho}{m_n}\\left(\\mathrm{Re}B'-\\frac{\\mu_n m_n}{4\\pi\\hbar^2\\rho}\\right) \\\\\n",
    "            &= \\frac{2\\pi\\hbar\\rho c^2}{m_nc^2}\\left(\\mathrm{Re}B'-\\frac{\\mu_n m_nc^2}{4\\pi\\hbar^2\\rho c^2}\\right) \\\\\n",
    "            &= \\frac{2\\pi\\hbar\\mathrm{[eV s]}\\rho\\mathrm{[m^{-3}]}c^2\\mathrm{[m^2 s^{-2}]}}{m_n\\mathrm{[eV]}}\\left(\\mathrm{Re}B'\\mathrm{[m]}-\\frac{\\mu_n\\mathrm{[eV T^{-1}]} m_n\\mathrm{[eV]} B_0\\mathrm{[T]}}{4\\pi\\hbar^2\\mathrm{[eV^2 s^2]}\\rho\\mathrm{[m^{-3}]}c^2\\mathrm{[m^2 s^{-2}]}}\\right)\n",
    "\n",
    "\\end{align}\n",
    "\n",
    "$$"
   ]
  },
  {
   "cell_type": "markdown",
   "metadata": {},
   "source": []
  },
  {
   "cell_type": "code",
   "execution_count": 1,
   "metadata": {},
   "outputs": [],
   "source": [
    "import ImRe_func as func\n",
    "import const\n",
    "import numpy as np"
   ]
  },
  {
   "cell_type": "code",
   "execution_count": null,
   "metadata": {},
   "outputs": [],
   "source": [
    "# omega at E=9.57 eV\n",
    "func.Omega(9.57)"
   ]
  },
  {
   "cell_type": "code",
   "execution_count": null,
   "metadata": {},
   "outputs": [],
   "source": [
    "# B_0 to make omega prime zero\n",
    "(func.Re_B(9.57)/10**15)*(4*np.pi*const.h_bar**2*const.num_129*const.c**2)/(const.mu_N*const.m_N)"
   ]
  },
  {
   "cell_type": "markdown",
   "metadata": {},
   "source": []
  },
  {
   "cell_type": "code",
   "execution_count": null,
   "metadata": {},
   "outputs": [],
   "source": [
    "# velocity [m/s] of neutron at 9.75 eV\n",
    "437.4*np.sqrt(9.57*10**3)"
   ]
  },
  {
   "cell_type": "code",
   "execution_count": null,
   "metadata": {},
   "outputs": [],
   "source": [
    "# time to pass throgh 5 cm Xe cell\n",
    "# neutron at 9.75 eV\n",
    "5*10**(-2)/(437.4*np.sqrt(9.57*10**3))"
   ]
  },
  {
   "cell_type": "code",
   "execution_count": null,
   "metadata": {},
   "outputs": [],
   "source": [
    "360/(2*np.pi)*74017*5*10**(-2)/(437.4*np.sqrt(9.57*10**3))"
   ]
  },
  {
   "cell_type": "code",
   "execution_count": null,
   "metadata": {},
   "outputs": [],
   "source": [
    "func.Omega_prime(9.57, 1.5*10**(-3), 1)"
   ]
  },
  {
   "cell_type": "code",
   "execution_count": null,
   "metadata": {},
   "outputs": [],
   "source": [
    "func.sigma_A(9.57)"
   ]
  },
  {
   "cell_type": "code",
   "execution_count": null,
   "metadata": {},
   "outputs": [],
   "source": [
    "x=9.57\n",
    "Pol129 = 0.01\n",
    "func.sigma_A(x)+func.sigma_B(x, Pol129)-func.sigma_A(9.57)"
   ]
  },
  {
   "cell_type": "code",
   "execution_count": null,
   "metadata": {},
   "outputs": [],
   "source": [
    "func.sigma_A(x)-func.sigma_B(x, Pol129)"
   ]
  },
  {
   "cell_type": "code",
   "execution_count": null,
   "metadata": {},
   "outputs": [],
   "source": [
    "func.sigma_A(9.57)-func.sigma_A(x)-func.sigma_B(x, Pol129)"
   ]
  },
  {
   "cell_type": "code",
   "execution_count": null,
   "metadata": {},
   "outputs": [],
   "source": [
    "T = np.exp(-const.num_129*10294*10**(-28)*5*10**(-2))*np.cosh(Pol129*const.num_129*34*10**(-28)*5*10**(-2))\n",
    "T"
   ]
  },
  {
   "cell_type": "code",
   "execution_count": null,
   "metadata": {},
   "outputs": [],
   "source": [
    "-const.mu_N*1.5*10**(-3)/(2*const.h_bar)"
   ]
  },
  {
   "cell_type": "code",
   "execution_count": null,
   "metadata": {},
   "outputs": [],
   "source": [
    "func.Omega(9.57)"
   ]
  },
  {
   "cell_type": "code",
   "execution_count": null,
   "metadata": {},
   "outputs": [],
   "source": [
    "func.Poln()"
   ]
  },
  {
   "cell_type": "code",
   "execution_count": null,
   "metadata": {},
   "outputs": [],
   "source": [
    "func.Tasymm(9.57, 0.01)"
   ]
  },
  {
   "cell_type": "code",
   "execution_count": null,
   "metadata": {},
   "outputs": [],
   "source": [
    "func.Tasymm(9.57, 0.10)"
   ]
  },
  {
   "cell_type": "code",
   "execution_count": null,
   "metadata": {},
   "outputs": [],
   "source": [
    "func.Transmission(9.57, 0.01)/func.Transmission(9.57, 0.0)"
   ]
  },
  {
   "cell_type": "code",
   "execution_count": null,
   "metadata": {},
   "outputs": [],
   "source": [
    "O_p = func.Omega_pseud(9.5, 1.0)\n",
    "#O_p = func.Omega_pseud(9.5, 3*0.264)"
   ]
  },
  {
   "cell_type": "code",
   "execution_count": null,
   "metadata": {},
   "outputs": [],
   "source": [
    "O_0 = func.Omega_zero(1.5*10**(-3))"
   ]
  },
  {
   "cell_type": "code",
   "execution_count": null,
   "metadata": {},
   "outputs": [],
   "source": [
    "t = const.d_cell/(437.4*np.sqrt(9.5*10**3))"
   ]
  },
  {
   "cell_type": "code",
   "execution_count": null,
   "metadata": {},
   "outputs": [],
   "source": [
    "O_p*0.01*t"
   ]
  },
  {
   "cell_type": "code",
   "execution_count": null,
   "metadata": {},
   "outputs": [],
   "source": [
    "O_0*t"
   ]
  },
  {
   "cell_type": "code",
   "execution_count": null,
   "metadata": {},
   "outputs": [],
   "source": [
    "func.Omega_prime(9.57, 1.5*10**(-3), 0.01)"
   ]
  },
  {
   "cell_type": "code",
   "execution_count": null,
   "metadata": {},
   "outputs": [],
   "source": [
    "func.n_rotation(9.57, 1.5*10**(-3), 0.01)"
   ]
  },
  {
   "cell_type": "code",
   "execution_count": null,
   "metadata": {},
   "outputs": [],
   "source": [
    "iIm_B = func.sigma_B(9.57, 0.01)\n",
    "iIm_B = iIm_B/10**28\n",
    "const.num_129*iIm_B*const.d_cell"
   ]
  },
  {
   "cell_type": "code",
   "execution_count": null,
   "metadata": {},
   "outputs": [],
   "source": [
    "np.tanh(const.num_129*iIm_B*const.d_cell)"
   ]
  },
  {
   "cell_type": "code",
   "execution_count": null,
   "metadata": {},
   "outputs": [],
   "source": [
    "iHe_sigma = func.He_total(9.57)\n",
    "const.rho_d_He*const.p_He*iHe_sigma"
   ]
  },
  {
   "cell_type": "code",
   "execution_count": null,
   "metadata": {},
   "outputs": [],
   "source": [
    "iHe_sigma"
   ]
  },
  {
   "cell_type": "code",
   "execution_count": null,
   "metadata": {},
   "outputs": [],
   "source": [
    "np.tanh(const.num_129*iIm_B*const.d_cell + const.rho_d_He*const.p_He*iHe_sigma*np.sin(0.01*O_p*t)*np.sin(O_0*t))*np.tanh(const.rho_d_He*const.p_He*iHe_sigma*(1 + np.cos(0.01*O_p*t)*np.cos(O_0*t)))"
   ]
  },
  {
   "cell_type": "code",
   "execution_count": null,
   "metadata": {},
   "outputs": [],
   "source": [
    "const.num_129*iIm_B*const.d_cell"
   ]
  },
  {
   "cell_type": "code",
   "execution_count": null,
   "metadata": {},
   "outputs": [],
   "source": [
    "const.rho_d_He*const.p_He*iHe_sigma*np.sin(0.01*O_p*t)*np.sin(O_0*t)"
   ]
  },
  {
   "cell_type": "code",
   "execution_count": null,
   "metadata": {},
   "outputs": [],
   "source": [
    "const.rho_d_He*const.p_He*iHe_sigma*(1 + np.cos(0.01*O_p*t)*np.cos(O_0*t))"
   ]
  },
  {
   "cell_type": "code",
   "execution_count": null,
   "metadata": {},
   "outputs": [],
   "source": [
    "func.NafterAnalyzer(3.2, 0.076, 1.5e-3, 300/760, 5e-2)"
   ]
  },
  {
   "cell_type": "code",
   "execution_count": 1,
   "metadata": {},
   "outputs": [],
   "source": [
    "import const\n",
    "import ImRe_func as func"
   ]
  },
  {
   "cell_type": "code",
   "execution_count": 3,
   "metadata": {},
   "outputs": [
    {
     "name": "stdout",
     "output_type": "stream",
     "text": [
      "12673347.260752965\n"
     ]
    },
    {
     "data": {
      "text/plain": [
       "5113828.370814087"
      ]
     },
     "execution_count": 3,
     "metadata": {},
     "output_type": "execute_result"
    }
   ],
   "source": [
    "func.NafterAnalyzer(9.57, 0.06, 1.5e-3, 1.0, 10e-2)"
   ]
  },
  {
   "cell_type": "code",
   "execution_count": 2,
   "metadata": {},
   "outputs": [
    {
     "name": "stdout",
     "output_type": "stream",
     "text": [
      "19361932.126281623\n"
     ]
    },
    {
     "data": {
      "text/plain": [
       "4923426.765952074"
      ]
     },
     "execution_count": 2,
     "metadata": {},
     "output_type": "execute_result"
    }
   ],
   "source": [
    "func.NafterAnalyzer(3.2, 0.076, 1.5e-3, 300/760, 5e-2)"
   ]
  },
  {
   "cell_type": "code",
   "execution_count": null,
   "metadata": {},
   "outputs": [],
   "source": []
  }
 ],
 "metadata": {
  "kernelspec": {
   "display_name": "Python 3",
   "language": "python",
   "name": "python3"
  },
  "language_info": {
   "codemirror_mode": {
    "name": "ipython",
    "version": 3
   },
   "file_extension": ".py",
   "mimetype": "text/x-python",
   "name": "python",
   "nbconvert_exporter": "python",
   "pygments_lexer": "ipython3",
   "version": "3.10.12"
  },
  "orig_nbformat": 4
 },
 "nbformat": 4,
 "nbformat_minor": 2
}
